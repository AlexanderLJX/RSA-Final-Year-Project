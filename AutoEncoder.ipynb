{
 "cells": [
  {
   "cell_type": "code",
   "execution_count": 1,
   "id": "2e4227a1",
   "metadata": {},
   "outputs": [
    {
     "data": {
      "text/html": [
       "<div>\n",
       "<style scoped>\n",
       "    .dataframe tbody tr th:only-of-type {\n",
       "        vertical-align: middle;\n",
       "    }\n",
       "\n",
       "    .dataframe tbody tr th {\n",
       "        vertical-align: top;\n",
       "    }\n",
       "\n",
       "    .dataframe thead th {\n",
       "        text-align: right;\n",
       "    }\n",
       "</style>\n",
       "<table border=\"1\" class=\"dataframe\">\n",
       "  <thead>\n",
       "    <tr style=\"text-align: right;\">\n",
       "      <th></th>\n",
       "      <th>resource_type</th>\n",
       "      <th>indicator</th>\n",
       "      <th>owner_name</th>\n",
       "      <th>rating</th>\n",
       "      <th>confidence</th>\n",
       "      <th>threat_assess_confidence</th>\n",
       "      <th>threat_assess_rating</th>\n",
       "      <th>date_added</th>\n",
       "      <th>Country</th>\n",
       "      <th>Architecture</th>\n",
       "      <th>Target</th>\n",
       "      <th>Tags</th>\n",
       "    </tr>\n",
       "  </thead>\n",
       "  <tbody>\n",
       "    <tr>\n",
       "      <th>0</th>\n",
       "      <td>ADDRESSES</td>\n",
       "      <td>122.177.174.216</td>\n",
       "      <td>Blocklist.de SSH IPs</td>\n",
       "      <td>4.0</td>\n",
       "      <td>4</td>\n",
       "      <td>4.0</td>\n",
       "      <td>4.0</td>\n",
       "      <td>2021-03-30 09:15:03</td>\n",
       "      <td></td>\n",
       "      <td></td>\n",
       "      <td></td>\n",
       "      <td></td>\n",
       "    </tr>\n",
       "    <tr>\n",
       "      <th>1</th>\n",
       "      <td>HOSTS</td>\n",
       "      <td>scurityidlockinfowellsfargo.com</td>\n",
       "      <td>CAL Finance-themed NRDs</td>\n",
       "      <td>3.0</td>\n",
       "      <td>61</td>\n",
       "      <td>62.0</td>\n",
       "      <td>3.0</td>\n",
       "      <td>2022-05-11 00:00:00</td>\n",
       "      <td></td>\n",
       "      <td></td>\n",
       "      <td></td>\n",
       "      <td>Host.RecentlyRegistered.7D;</td>\n",
       "    </tr>\n",
       "    <tr>\n",
       "      <th>2</th>\n",
       "      <td>HOSTS</td>\n",
       "      <td>down.flash-plays.com</td>\n",
       "      <td>Firebog Prigent Malware Domains</td>\n",
       "      <td>3.0</td>\n",
       "      <td>75</td>\n",
       "      <td>75.0</td>\n",
       "      <td>3.0</td>\n",
       "      <td>2021-06-03 02:29:12</td>\n",
       "      <td></td>\n",
       "      <td></td>\n",
       "      <td></td>\n",
       "      <td></td>\n",
       "    </tr>\n",
       "    <tr>\n",
       "      <th>3</th>\n",
       "      <td>FILES</td>\n",
       "      <td>{'md5': '222BFA268954D953348A11FAEC0E011F', 's...</td>\n",
       "      <td>MalShare Daily Malware List</td>\n",
       "      <td>3.0</td>\n",
       "      <td>69</td>\n",
       "      <td>69.0</td>\n",
       "      <td>3.0</td>\n",
       "      <td>2021-06-23 15:15:04</td>\n",
       "      <td></td>\n",
       "      <td></td>\n",
       "      <td></td>\n",
       "      <td></td>\n",
       "    </tr>\n",
       "    <tr>\n",
       "      <th>4</th>\n",
       "      <td>FILES</td>\n",
       "      <td>{'md5': 'BE75224E48976EB4BA3FAEB9D0D14A5F', 's...</td>\n",
       "      <td>MalShare Daily Malware List</td>\n",
       "      <td>3.0</td>\n",
       "      <td>69</td>\n",
       "      <td>69.0</td>\n",
       "      <td>3.0</td>\n",
       "      <td>2021-11-19 05:00:00</td>\n",
       "      <td></td>\n",
       "      <td></td>\n",
       "      <td></td>\n",
       "      <td></td>\n",
       "    </tr>\n",
       "    <tr>\n",
       "      <th>...</th>\n",
       "      <td>...</td>\n",
       "      <td>...</td>\n",
       "      <td>...</td>\n",
       "      <td>...</td>\n",
       "      <td>...</td>\n",
       "      <td>...</td>\n",
       "      <td>...</td>\n",
       "      <td>...</td>\n",
       "      <td>...</td>\n",
       "      <td>...</td>\n",
       "      <td>...</td>\n",
       "      <td>...</td>\n",
       "    </tr>\n",
       "    <tr>\n",
       "      <th>4249748</th>\n",
       "      <td>URLS</td>\n",
       "      <td>http://178.175.117.56:53099/Mozi.a</td>\n",
       "      <td>abuse.ch URLHaus</td>\n",
       "      <td>3.0</td>\n",
       "      <td>65</td>\n",
       "      <td>65.0</td>\n",
       "      <td>3.0</td>\n",
       "      <td>2021-04-29 12:05:20</td>\n",
       "      <td></td>\n",
       "      <td></td>\n",
       "      <td></td>\n",
       "      <td>elf;malware_download;Mozi;</td>\n",
       "    </tr>\n",
       "    <tr>\n",
       "      <th>4249749</th>\n",
       "      <td>URLS</td>\n",
       "      <td>http://182.59.42.217:40443/Mozi.m</td>\n",
       "      <td>abuse.ch URLHaus</td>\n",
       "      <td>3.0</td>\n",
       "      <td>65</td>\n",
       "      <td>65.0</td>\n",
       "      <td>3.0</td>\n",
       "      <td>2020-11-10 11:56:02</td>\n",
       "      <td></td>\n",
       "      <td></td>\n",
       "      <td></td>\n",
       "      <td>elf;malware_download;Mozi;</td>\n",
       "    </tr>\n",
       "    <tr>\n",
       "      <th>4249750</th>\n",
       "      <td>URLS</td>\n",
       "      <td>http://sanavitawellnesscoaching.com/b/auth/log...</td>\n",
       "      <td>OpenPhish</td>\n",
       "      <td>3.0</td>\n",
       "      <td>0</td>\n",
       "      <td>0.0</td>\n",
       "      <td>3.0</td>\n",
       "      <td>2019-11-19 14:51:38</td>\n",
       "      <td></td>\n",
       "      <td></td>\n",
       "      <td></td>\n",
       "      <td></td>\n",
       "    </tr>\n",
       "    <tr>\n",
       "      <th>4249751</th>\n",
       "      <td>URLS</td>\n",
       "      <td>http://182.121.147.99:51686/Mozi.m</td>\n",
       "      <td>abuse.ch URLHaus</td>\n",
       "      <td>3.0</td>\n",
       "      <td>65</td>\n",
       "      <td>65.0</td>\n",
       "      <td>3.0</td>\n",
       "      <td>2021-05-07 01:05:09</td>\n",
       "      <td></td>\n",
       "      <td></td>\n",
       "      <td></td>\n",
       "      <td>elf;malware_download;Mozi;</td>\n",
       "    </tr>\n",
       "    <tr>\n",
       "      <th>4249752</th>\n",
       "      <td>URLS</td>\n",
       "      <td>https://siouxfallsdentrepair.com/bi.html</td>\n",
       "      <td>PhishTank</td>\n",
       "      <td>4.0</td>\n",
       "      <td>100</td>\n",
       "      <td>100.0</td>\n",
       "      <td>4.0</td>\n",
       "      <td>2021-12-26 09:23:11</td>\n",
       "      <td></td>\n",
       "      <td></td>\n",
       "      <td></td>\n",
       "      <td>PhishTank: Verified;</td>\n",
       "    </tr>\n",
       "  </tbody>\n",
       "</table>\n",
       "<p>4249753 rows × 12 columns</p>\n",
       "</div>"
      ],
      "text/plain": [
       "        resource_type                                          indicator  \\\n",
       "0           ADDRESSES                                    122.177.174.216   \n",
       "1               HOSTS                    scurityidlockinfowellsfargo.com   \n",
       "2               HOSTS                               down.flash-plays.com   \n",
       "3               FILES  {'md5': '222BFA268954D953348A11FAEC0E011F', 's...   \n",
       "4               FILES  {'md5': 'BE75224E48976EB4BA3FAEB9D0D14A5F', 's...   \n",
       "...               ...                                                ...   \n",
       "4249748          URLS                 http://178.175.117.56:53099/Mozi.a   \n",
       "4249749          URLS                  http://182.59.42.217:40443/Mozi.m   \n",
       "4249750          URLS  http://sanavitawellnesscoaching.com/b/auth/log...   \n",
       "4249751          URLS                 http://182.121.147.99:51686/Mozi.m   \n",
       "4249752          URLS           https://siouxfallsdentrepair.com/bi.html   \n",
       "\n",
       "                              owner_name  rating  confidence  \\\n",
       "0                   Blocklist.de SSH IPs     4.0           4   \n",
       "1                CAL Finance-themed NRDs     3.0          61   \n",
       "2        Firebog Prigent Malware Domains     3.0          75   \n",
       "3            MalShare Daily Malware List     3.0          69   \n",
       "4            MalShare Daily Malware List     3.0          69   \n",
       "...                                  ...     ...         ...   \n",
       "4249748                 abuse.ch URLHaus     3.0          65   \n",
       "4249749                 abuse.ch URLHaus     3.0          65   \n",
       "4249750                        OpenPhish     3.0           0   \n",
       "4249751                 abuse.ch URLHaus     3.0          65   \n",
       "4249752                        PhishTank     4.0         100   \n",
       "\n",
       "         threat_assess_confidence  threat_assess_rating          date_added  \\\n",
       "0                             4.0                   4.0 2021-03-30 09:15:03   \n",
       "1                            62.0                   3.0 2022-05-11 00:00:00   \n",
       "2                            75.0                   3.0 2021-06-03 02:29:12   \n",
       "3                            69.0                   3.0 2021-06-23 15:15:04   \n",
       "4                            69.0                   3.0 2021-11-19 05:00:00   \n",
       "...                           ...                   ...                 ...   \n",
       "4249748                      65.0                   3.0 2021-04-29 12:05:20   \n",
       "4249749                      65.0                   3.0 2020-11-10 11:56:02   \n",
       "4249750                       0.0                   3.0 2019-11-19 14:51:38   \n",
       "4249751                      65.0                   3.0 2021-05-07 01:05:09   \n",
       "4249752                     100.0                   4.0 2021-12-26 09:23:11   \n",
       "\n",
       "        Country Architecture Target                         Tags  \n",
       "0                                                                 \n",
       "1                                    Host.RecentlyRegistered.7D;  \n",
       "2                                                                 \n",
       "3                                                                 \n",
       "4                                                                 \n",
       "...         ...          ...    ...                          ...  \n",
       "4249748                               elf;malware_download;Mozi;  \n",
       "4249749                               elf;malware_download;Mozi;  \n",
       "4249750                                                           \n",
       "4249751                               elf;malware_download;Mozi;  \n",
       "4249752                                     PhishTank: Verified;  \n",
       "\n",
       "[4249753 rows x 12 columns]"
      ]
     },
     "execution_count": 1,
     "metadata": {},
     "output_type": "execute_result"
    }
   ],
   "source": [
    "import numpy as np\n",
    "import pandas as pd\n",
    "from tensorflow import keras\n",
    "from tensorflow.keras import layers\n",
    "from matplotlib import pyplot as plt\n",
    "\n",
    "df = pd.read_csv(\"cleansed.csv\",index_col=0, keep_default_na=False,parse_dates=[\"date_added\"])\n",
    "\n",
    "df1 = df.copy()\n",
    "df1"
   ]
  },
  {
   "cell_type": "code",
   "execution_count": 2,
   "id": "cd7a2d10",
   "metadata": {},
   "outputs": [
    {
     "data": {
      "text/html": [
       "<div>\n",
       "<style scoped>\n",
       "    .dataframe tbody tr th:only-of-type {\n",
       "        vertical-align: middle;\n",
       "    }\n",
       "\n",
       "    .dataframe tbody tr th {\n",
       "        vertical-align: top;\n",
       "    }\n",
       "\n",
       "    .dataframe thead th {\n",
       "        text-align: right;\n",
       "    }\n",
       "</style>\n",
       "<table border=\"1\" class=\"dataframe\">\n",
       "  <thead>\n",
       "    <tr style=\"text-align: right;\">\n",
       "      <th></th>\n",
       "      <th>date_added</th>\n",
       "      <th>count</th>\n",
       "    </tr>\n",
       "  </thead>\n",
       "  <tbody>\n",
       "    <tr>\n",
       "      <th>0</th>\n",
       "      <td>2017-09-08</td>\n",
       "      <td>25533</td>\n",
       "    </tr>\n",
       "    <tr>\n",
       "      <th>1</th>\n",
       "      <td>2017-09-09</td>\n",
       "      <td>24</td>\n",
       "    </tr>\n",
       "    <tr>\n",
       "      <th>2</th>\n",
       "      <td>2017-09-10</td>\n",
       "      <td>11</td>\n",
       "    </tr>\n",
       "    <tr>\n",
       "      <th>3</th>\n",
       "      <td>2017-09-11</td>\n",
       "      <td>9</td>\n",
       "    </tr>\n",
       "    <tr>\n",
       "      <th>4</th>\n",
       "      <td>2017-09-12</td>\n",
       "      <td>20</td>\n",
       "    </tr>\n",
       "    <tr>\n",
       "      <th>...</th>\n",
       "      <td>...</td>\n",
       "      <td>...</td>\n",
       "    </tr>\n",
       "    <tr>\n",
       "      <th>1712</th>\n",
       "      <td>2022-05-17</td>\n",
       "      <td>12131</td>\n",
       "    </tr>\n",
       "    <tr>\n",
       "      <th>1713</th>\n",
       "      <td>2022-05-18</td>\n",
       "      <td>7400</td>\n",
       "    </tr>\n",
       "    <tr>\n",
       "      <th>1714</th>\n",
       "      <td>2022-05-19</td>\n",
       "      <td>10883</td>\n",
       "    </tr>\n",
       "    <tr>\n",
       "      <th>1715</th>\n",
       "      <td>2022-05-20</td>\n",
       "      <td>6678</td>\n",
       "    </tr>\n",
       "    <tr>\n",
       "      <th>1716</th>\n",
       "      <td>2022-05-21</td>\n",
       "      <td>16</td>\n",
       "    </tr>\n",
       "  </tbody>\n",
       "</table>\n",
       "<p>1717 rows × 2 columns</p>\n",
       "</div>"
      ],
      "text/plain": [
       "     date_added  count\n",
       "0    2017-09-08  25533\n",
       "1    2017-09-09     24\n",
       "2    2017-09-10     11\n",
       "3    2017-09-11      9\n",
       "4    2017-09-12     20\n",
       "...         ...    ...\n",
       "1712 2022-05-17  12131\n",
       "1713 2022-05-18   7400\n",
       "1714 2022-05-19  10883\n",
       "1715 2022-05-20   6678\n",
       "1716 2022-05-21     16\n",
       "\n",
       "[1717 rows x 2 columns]"
      ]
     },
     "execution_count": 2,
     "metadata": {},
     "output_type": "execute_result"
    }
   ],
   "source": [
    "df1 = df1[[\"resource_type\",\"indicator\",\"owner_name\",\"rating\",\"confidence\",\"date_added\",\"Tags\"]]\n",
    "\n",
    "df1 = df1.join(pd.get_dummies(df1.resource_type, prefix='type'))\n",
    "\n",
    "# Convert to datetime\n",
    "df2 = df1.copy()\n",
    "df2['count'] = ' '\n",
    "\n",
    "# I think this should NOT be mean but another aggregate function... maybe variance? No... max?\n",
    "\n",
    "# df3 = df2.groupby(pd.Grouper(key='date_added', freq='1W'))[\"rating\"].mean().reset_index()\n",
    "# df4 = df2.groupby(pd.Grouper(key='date_added', freq='1W'))[\"confidence\"].mean().reset_index()\n",
    "# df5 = df2.groupby(pd.Grouper(key='date_added', freq='1W'))[['type_ADDRESSES','type_CUSTOM INDICATORS','type_EMAIL ADDRESSES','type_FILES','type_HOSTS','type_URLS']].sum().reset_index()\n",
    "df2 = df2.groupby(pd.Grouper(key='date_added', freq='1D'))[\"count\"].count().reset_index()\n",
    "\n",
    "# df2['avg_rating'] = df3['rating']\n",
    "# df2['avg_confidence'] = df4['confidence']\n",
    "# df2[['type_ADDRESSES','type_CUSTOM INDICATORS','type_EMAIL ADDRESSES','type_FILES','type_HOSTS','type_URLS']] = df5[['type_ADDRESSES','type_CUSTOM INDICATORS','type_EMAIL ADDRESSES','type_FILES','type_HOSTS','type_URLS']]\n",
    "mean = df2[\"count\"].mean()\n",
    "df2"
   ]
  },
  {
   "cell_type": "code",
   "execution_count": 3,
   "id": "f3d1778c",
   "metadata": {},
   "outputs": [
    {
     "name": "stdout",
     "output_type": "stream",
     "text": [
      "Number of training samples: 1717\n"
     ]
    },
    {
     "data": {
      "text/plain": [
       "(1717, 1)"
      ]
     },
     "execution_count": 3,
     "metadata": {},
     "output_type": "execute_result"
    }
   ],
   "source": [
    "# Normalize and save the mean and std we get,\n",
    "# for normalizing test data.\n",
    "training_mean = pd.DataFrame(df2['count']).mean()\n",
    "training_std = pd.DataFrame(df2['count']).std()\n",
    "df_training_value = (pd.DataFrame(df2['count']) - training_mean) / training_std\n",
    "print(\"Number of training samples:\", len(df_training_value))\n",
    "df_training_value.shape"
   ]
  },
  {
   "cell_type": "code",
   "execution_count": 4,
   "id": "d7563821",
   "metadata": {},
   "outputs": [
    {
     "name": "stdout",
     "output_type": "stream",
     "text": [
      "Training input shape:  (1710, 8, 1)\n"
     ]
    }
   ],
   "source": [
    "TIME_STEPS = 8\n",
    "\n",
    "# Generated training sequences for use in the model.\n",
    "def create_sequences(values, time_steps=TIME_STEPS):\n",
    "    output = []\n",
    "    for i in range(len(values) - time_steps + 1):\n",
    "        output.append(values[i : (i + time_steps)])\n",
    "    return np.stack(output)\n",
    "\n",
    "\n",
    "x_train = create_sequences(df_training_value.values)\n",
    "print(\"Training input shape: \", x_train.shape)\n",
    "\n",
    "# x_train = df_training_value\n",
    "# x_train.shape"
   ]
  },
  {
   "cell_type": "code",
   "execution_count": 5,
   "id": "64c4bf7c",
   "metadata": {},
   "outputs": [
    {
     "name": "stdout",
     "output_type": "stream",
     "text": [
      "Model: \"sequential\"\n",
      "_________________________________________________________________\n",
      " Layer (type)                Output Shape              Param #   \n",
      "=================================================================\n",
      " conv1d (Conv1D)             (None, 4, 32)             256       \n",
      "                                                                 \n",
      " dropout (Dropout)           (None, 4, 32)             0         \n",
      "                                                                 \n",
      " conv1d_1 (Conv1D)           (None, 2, 16)             3600      \n",
      "                                                                 \n",
      " conv1d_transpose (Conv1DTra  (None, 4, 16)            1808      \n",
      " nspose)                                                         \n",
      "                                                                 \n",
      " dropout_1 (Dropout)         (None, 4, 16)             0         \n",
      "                                                                 \n",
      " conv1d_transpose_1 (Conv1DT  (None, 8, 32)            3616      \n",
      " ranspose)                                                       \n",
      "                                                                 \n",
      " conv1d_transpose_2 (Conv1DT  (None, 8, 1)             225       \n",
      " ranspose)                                                       \n",
      "                                                                 \n",
      "=================================================================\n",
      "Total params: 9,505\n",
      "Trainable params: 9,505\n",
      "Non-trainable params: 0\n",
      "_________________________________________________________________\n"
     ]
    }
   ],
   "source": [
    "model = keras.Sequential(\n",
    "    [\n",
    "        layers.Input(shape=(x_train.shape[1],x_train.shape[2])),\n",
    "        layers.Conv1D(\n",
    "            filters=32, kernel_size=7, padding=\"same\", strides=2, activation=\"relu\"\n",
    "        ),\n",
    "        layers.Dropout(rate=0.2),\n",
    "        layers.Conv1D(\n",
    "            filters=16, kernel_size=7, padding=\"same\", strides=2, activation=\"relu\"\n",
    "        ),\n",
    "        layers.Conv1DTranspose(\n",
    "            filters=16, kernel_size=7, padding=\"same\", strides=2, activation=\"relu\"\n",
    "        ),\n",
    "        layers.Dropout(rate=0.2),\n",
    "        layers.Conv1DTranspose(\n",
    "            filters=32, kernel_size=7, padding=\"same\", strides=2, activation=\"relu\"\n",
    "        ),\n",
    "        layers.Conv1DTranspose(filters=1, kernel_size=7, padding=\"same\"),\n",
    "    ]\n",
    ")\n",
    "model.compile(optimizer=keras.optimizers.Adam(learning_rate=0.001), loss=\"mse\")\n",
    "model.summary()"
   ]
  },
  {
   "cell_type": "code",
   "execution_count": 6,
   "id": "2385e6ed",
   "metadata": {},
   "outputs": [
    {
     "name": "stdout",
     "output_type": "stream",
     "text": [
      "Epoch 1/50\n",
      "13/13 [==============================] - 2s 52ms/step - loss: 0.8297 - val_loss: 1.6666\n",
      "Epoch 2/50\n",
      "13/13 [==============================] - 0s 5ms/step - loss: 0.6370 - val_loss: 1.0755\n",
      "Epoch 3/50\n",
      "13/13 [==============================] - 0s 5ms/step - loss: 0.3996 - val_loss: 1.0453\n",
      "Epoch 4/50\n",
      "13/13 [==============================] - 0s 6ms/step - loss: 0.3658 - val_loss: 1.0116\n",
      "Epoch 5/50\n",
      "13/13 [==============================] - 0s 8ms/step - loss: 0.3411 - val_loss: 0.9912\n",
      "Epoch 6/50\n",
      "13/13 [==============================] - 0s 7ms/step - loss: 0.3345 - val_loss: 0.9305\n",
      "Epoch 7/50\n",
      "13/13 [==============================] - 0s 7ms/step - loss: 0.3082 - val_loss: 0.8733\n",
      "Epoch 8/50\n",
      "13/13 [==============================] - 0s 8ms/step - loss: 0.2930 - val_loss: 0.7842\n",
      "Epoch 9/50\n",
      "13/13 [==============================] - 0s 7ms/step - loss: 0.2654 - val_loss: 0.6866\n",
      "Epoch 10/50\n",
      "13/13 [==============================] - 0s 9ms/step - loss: 0.2362 - val_loss: 0.6095\n",
      "Epoch 11/50\n",
      "13/13 [==============================] - 0s 10ms/step - loss: 0.2057 - val_loss: 0.5399\n",
      "Epoch 12/50\n",
      "13/13 [==============================] - 0s 8ms/step - loss: 0.1906 - val_loss: 0.4879\n",
      "Epoch 13/50\n",
      "13/13 [==============================] - 0s 8ms/step - loss: 0.1813 - val_loss: 0.4650\n",
      "Epoch 14/50\n",
      "13/13 [==============================] - 0s 7ms/step - loss: 0.1588 - val_loss: 0.3956\n",
      "Epoch 15/50\n",
      "13/13 [==============================] - 0s 5ms/step - loss: 0.1460 - val_loss: 0.3780\n",
      "Epoch 16/50\n",
      "13/13 [==============================] - 0s 8ms/step - loss: 0.1367 - val_loss: 0.3689\n",
      "Epoch 17/50\n",
      "13/13 [==============================] - 0s 9ms/step - loss: 0.1136 - val_loss: 0.3112\n",
      "Epoch 18/50\n",
      "13/13 [==============================] - 0s 9ms/step - loss: 0.1015 - val_loss: 0.3040\n",
      "Epoch 19/50\n",
      "13/13 [==============================] - 0s 9ms/step - loss: 0.1085 - val_loss: 0.2559\n",
      "Epoch 20/50\n",
      "13/13 [==============================] - 0s 9ms/step - loss: 0.0994 - val_loss: 0.2638\n",
      "Epoch 21/50\n",
      "13/13 [==============================] - 0s 10ms/step - loss: 0.0780 - val_loss: 0.2429\n",
      "Epoch 22/50\n",
      "13/13 [==============================] - 0s 11ms/step - loss: 0.0887 - val_loss: 0.2122\n",
      "Epoch 23/50\n",
      "13/13 [==============================] - 0s 8ms/step - loss: 0.0738 - val_loss: 0.1934\n",
      "Epoch 24/50\n",
      "13/13 [==============================] - 0s 8ms/step - loss: 0.0774 - val_loss: 0.2376\n",
      "Epoch 25/50\n",
      "13/13 [==============================] - 0s 10ms/step - loss: 0.0833 - val_loss: 0.2193\n",
      "Epoch 26/50\n",
      "13/13 [==============================] - 0s 9ms/step - loss: 0.0691 - val_loss: 0.2070\n",
      "Epoch 27/50\n",
      "13/13 [==============================] - 0s 9ms/step - loss: 0.0615 - val_loss: 0.2348\n",
      "Epoch 28/50\n",
      "13/13 [==============================] - 0s 9ms/step - loss: 0.0603 - val_loss: 0.2486\n"
     ]
    }
   ],
   "source": [
    "history = model.fit(\n",
    "    x_train,\n",
    "    x_train,\n",
    "    epochs=50,\n",
    "    batch_size=128,\n",
    "    validation_split=0.1,\n",
    "    callbacks=[\n",
    "        keras.callbacks.EarlyStopping(monitor=\"val_loss\", patience=5, mode=\"min\")\n",
    "    ],\n",
    ")"
   ]
  },
  {
   "cell_type": "code",
   "execution_count": 7,
   "id": "15373ec9",
   "metadata": {},
   "outputs": [
    {
     "data": {
      "image/png": "[encoded data removed]",
      "text/plain": [
       "<Figure size 432x288 with 1 Axes>"
      ]
     },
     "metadata": {
      "needs_background": "light"
     },
     "output_type": "display_data"
    }
   ],
   "source": [
    "plt.plot(history.history[\"loss\"], label=\"Training Loss\")\n",
    "plt.plot(history.history[\"val_loss\"], label=\"Validation Loss\")\n",
    "plt.legend()\n",
    "plt.show()"
   ]
  },
  {
   "cell_type": "code",
   "execution_count": 8,
   "id": "d0651f69",
   "metadata": {},
   "outputs": [
    {
     "name": "stdout",
     "output_type": "stream",
     "text": [
      "54/54 [==============================] - 0s 2ms/step\n"
     ]
    },
    {
     "data": {
      "image/png": "[encoded data removed]",
      "text/plain": [
       "<Figure size 432x288 with 1 Axes>"
      ]
     },
     "metadata": {
      "needs_background": "light"
     },
     "output_type": "display_data"
    },
    {
     "name": "stdout",
     "output_type": "stream",
     "text": [
      "Reconstruction error threshold:  0.23725564282978398\n"
     ]
    }
   ],
   "source": [
    "# Get train MAE loss.\n",
    "x_train_pred = model.predict(x_train)\n",
    "train_mae_loss = np.mean(np.abs(x_train_pred - x_train), axis=1)\n",
    "\n",
    "plt.hist(train_mae_loss, bins=50)\n",
    "plt.xlabel(\"Train MAE loss\")\n",
    "plt.ylabel(\"No of samples\")\n",
    "plt.show()\n",
    "\n",
    "# Get reconstruction loss threshold.\n",
    "threshold = np.max(train_mae_loss)/10\n",
    "print(\"Reconstruction error threshold: \", threshold)"
   ]
  },
  {
   "cell_type": "code",
   "execution_count": 9,
   "id": "2f4933d8",
   "metadata": {},
   "outputs": [
    {
     "data": {
      "image/png": "[encoded data removed]",
      "text/plain": [
       "<Figure size 432x288 with 1 Axes>"
      ]
     },
     "metadata": {
      "needs_background": "light"
     },
     "output_type": "display_data"
    },
    {
     "data": {
      "text/plain": [
       "(1710, 8, 1)"
      ]
     },
     "execution_count": 9,
     "metadata": {},
     "output_type": "execute_result"
    }
   ],
   "source": [
    "plt.plot(x_train[0])\n",
    "plt.plot(x_train_pred[0])\n",
    "plt.show()\n",
    "x_train.shape"
   ]
  },
  {
   "cell_type": "code",
   "execution_count": 10,
   "id": "1eb9e269",
   "metadata": {},
   "outputs": [
    {
     "data": {
      "image/png": "[encoded data removed]",
      "text/plain": [
       "<Figure size 432x288 with 1 Axes>"
      ]
     },
     "metadata": {
      "needs_background": "light"
     },
     "output_type": "display_data"
    },
    {
     "name": "stdout",
     "output_type": "stream",
     "text": [
      "Test input shape:  (1710, 8, 1)\n",
      "54/54 [==============================] - 0s 1ms/step\n"
     ]
    },
    {
     "data": {
      "image/png": "[encoded data removed]",
      "text/plain": [
       "<Figure size 432x288 with 1 Axes>"
      ]
     },
     "metadata": {
      "needs_background": "light"
     },
     "output_type": "display_data"
    },
    {
     "name": "stdout",
     "output_type": "stream",
     "text": [
      "Number of anomaly samples:  129\n",
      "Indices of anomaly samples:  (array([   0,   94,   96,   97,   98,   99,  642,  643,  644,  645,  646,\n",
      "        647,  648,  649,  926,  999, 1000, 1096, 1097, 1098, 1099, 1100,\n",
      "       1102, 1186, 1188, 1189, 1191, 1211, 1212, 1213, 1214, 1215, 1216,\n",
      "       1217, 1218, 1219, 1220, 1221, 1222, 1223, 1240, 1241, 1242, 1243,\n",
      "       1244, 1245, 1262, 1263, 1264, 1265, 1266, 1267, 1268, 1269, 1274,\n",
      "       1275, 1276, 1277, 1278, 1280, 1281, 1309, 1320, 1321, 1322, 1323,\n",
      "       1324, 1325, 1326, 1327, 1328, 1329, 1330, 1331, 1332, 1344, 1346,\n",
      "       1347, 1349, 1350, 1357, 1358, 1359, 1360, 1361, 1362, 1363, 1364,\n",
      "       1372, 1373, 1378, 1379, 1380, 1399, 1400, 1401, 1402, 1403, 1404,\n",
      "       1405, 1406, 1427, 1428, 1429, 1431, 1433, 1434, 1435, 1436, 1615,\n",
      "       1616, 1617, 1618, 1619, 1620, 1621, 1622, 1623, 1624, 1700, 1701,\n",
      "       1702, 1703, 1704, 1705, 1706, 1707, 1708, 1709], dtype=int64),)\n"
     ]
    }
   ],
   "source": [
    "df_test_value = df_training_value\n",
    "fig, ax = plt.subplots()\n",
    "df_test_value.plot(legend=False, ax=ax)\n",
    "plt.show()\n",
    "\n",
    "# Create sequences from test values.\n",
    "x_test = create_sequences(df_test_value.values)\n",
    "print(\"Test input shape: \", x_test.shape)\n",
    "\n",
    "# Get test MAE loss.\n",
    "x_test_pred = model.predict(x_test)\n",
    "test_mae_loss = np.mean(np.abs(x_test_pred - x_test), axis=1)\n",
    "test_mae_loss = test_mae_loss.reshape((-1))\n",
    "\n",
    "plt.hist(test_mae_loss, bins=50)\n",
    "plt.xlabel(\"test MAE loss\")\n",
    "plt.ylabel(\"No of samples\")\n",
    "plt.show()\n",
    "\n",
    "# Detect all the samples which are anomalies.\n",
    "anomalies = test_mae_loss > threshold\n",
    "print(\"Number of anomaly samples: \", np.sum(anomalies))\n",
    "print(\"Indices of anomaly samples: \", np.where(anomalies))"
   ]
  },
  {
   "cell_type": "code",
   "execution_count": 11,
   "id": "67ed1bc8",
   "metadata": {},
   "outputs": [],
   "source": [
    "# data i is an anomaly if samples [(i - timesteps + 1) to (i)] are anomalies\n",
    "anomalous_data_indices = []\n",
    "for data_idx in range(TIME_STEPS - 1, len(df_test_value) - TIME_STEPS + 1):\n",
    "    if np.all(anomalies[data_idx - TIME_STEPS + 1 : data_idx]):\n",
    "        anomalous_data_indices.append(data_idx)"
   ]
  },
  {
   "cell_type": "code",
   "execution_count": 12,
   "id": "f3602153",
   "metadata": {},
   "outputs": [],
   "source": [
    "df_subset = df2.iloc[anomalous_data_indices]\n",
    "# fig, ax = plt.subplots()\n",
    "# df2.plot(legend=False, ax=ax)\n",
    "# df_subset.plot(legend=False, ax=ax, color=\"r\")\n",
    "# plt.show()"
   ]
  },
  {
   "cell_type": "code",
   "execution_count": 13,
   "id": "3649d026",
   "metadata": {},
   "outputs": [
    {
     "data": {
      "image/png": "[encoded data removed]",
      "text/plain": [
       "<Figure size 1080x432 with 1 Axes>"
      ]
     },
     "metadata": {
      "needs_background": "light"
     },
     "output_type": "display_data"
    },
    {
     "name": "stdout",
     "output_type": "stream",
     "text": [
      "Number of anomaly samples:  29\n"
     ]
    }
   ],
   "source": [
    "fig, ax = plt.subplots(figsize=(15,6))\n",
    "\n",
    "a = df_subset #anomaly\n",
    "\n",
    "ax.plot(df2['date_added'], df2['count'], color='blue', label = 'Normal')\n",
    "ax.scatter(a['date_added'],a['count'], color='red', label = 'Anomaly')\n",
    "\n",
    "plt.legend()\n",
    "plt.show();\n",
    "print(\"Number of anomaly samples: \", a.shape[0])"
   ]
  },
  {
   "cell_type": "code",
   "execution_count": 14,
   "id": "4ac221fa",
   "metadata": {},
   "outputs": [
    {
     "data": {
      "text/html": [
       "<div>\n",
       "<style scoped>\n",
       "    .dataframe tbody tr th:only-of-type {\n",
       "        vertical-align: middle;\n",
       "    }\n",
       "\n",
       "    .dataframe tbody tr th {\n",
       "        vertical-align: top;\n",
       "    }\n",
       "\n",
       "    .dataframe thead th {\n",
       "        text-align: right;\n",
       "    }\n",
       "</style>\n",
       "<table border=\"1\" class=\"dataframe\">\n",
       "  <thead>\n",
       "    <tr style=\"text-align: right;\">\n",
       "      <th></th>\n",
       "      <th>date_added</th>\n",
       "      <th>count</th>\n",
       "    </tr>\n",
       "  </thead>\n",
       "  <tbody>\n",
       "    <tr>\n",
       "      <th>0</th>\n",
       "      <td>2017-09-08</td>\n",
       "      <td>25533</td>\n",
       "    </tr>\n",
       "    <tr>\n",
       "      <th>1</th>\n",
       "      <td>2017-09-09</td>\n",
       "      <td>24</td>\n",
       "    </tr>\n",
       "    <tr>\n",
       "      <th>2</th>\n",
       "      <td>2017-09-10</td>\n",
       "      <td>11</td>\n",
       "    </tr>\n",
       "    <tr>\n",
       "      <th>3</th>\n",
       "      <td>2017-09-11</td>\n",
       "      <td>9</td>\n",
       "    </tr>\n",
       "    <tr>\n",
       "      <th>4</th>\n",
       "      <td>2017-09-12</td>\n",
       "      <td>20</td>\n",
       "    </tr>\n",
       "    <tr>\n",
       "      <th>...</th>\n",
       "      <td>...</td>\n",
       "      <td>...</td>\n",
       "    </tr>\n",
       "    <tr>\n",
       "      <th>1712</th>\n",
       "      <td>2022-05-17</td>\n",
       "      <td>12131</td>\n",
       "    </tr>\n",
       "    <tr>\n",
       "      <th>1713</th>\n",
       "      <td>2022-05-18</td>\n",
       "      <td>7400</td>\n",
       "    </tr>\n",
       "    <tr>\n",
       "      <th>1714</th>\n",
       "      <td>2022-05-19</td>\n",
       "      <td>10883</td>\n",
       "    </tr>\n",
       "    <tr>\n",
       "      <th>1715</th>\n",
       "      <td>2022-05-20</td>\n",
       "      <td>6678</td>\n",
       "    </tr>\n",
       "    <tr>\n",
       "      <th>1716</th>\n",
       "      <td>2022-05-21</td>\n",
       "      <td>16</td>\n",
       "    </tr>\n",
       "  </tbody>\n",
       "</table>\n",
       "<p>1717 rows × 2 columns</p>\n",
       "</div>"
      ],
      "text/plain": [
       "     date_added  count\n",
       "0    2017-09-08  25533\n",
       "1    2017-09-09     24\n",
       "2    2017-09-10     11\n",
       "3    2017-09-11      9\n",
       "4    2017-09-12     20\n",
       "...         ...    ...\n",
       "1712 2022-05-17  12131\n",
       "1713 2022-05-18   7400\n",
       "1714 2022-05-19  10883\n",
       "1715 2022-05-20   6678\n",
       "1716 2022-05-21     16\n",
       "\n",
       "[1717 rows x 2 columns]"
      ]
     },
     "execution_count": 14,
     "metadata": {},
     "output_type": "execute_result"
    }
   ],
   "source": [
    "df2.to_csv('AutoEncoderAnomaly.csv')\n",
    "df2"
   ]
  },
  {
   "cell_type": "code",
   "execution_count": 15,
   "id": "7e191994",
   "metadata": {},
   "outputs": [],
   "source": [
    "# import numpy as np\n",
    "# from pyod.models.auto_encoder import AutoEncoder\n",
    "# from pyod.utils.data import generate_data\n",
    "\n"
   ]
  }
 ],
 "metadata": {
  "kernelspec": {
   "display_name": "Python 3 (ipykernel)",
   "language": "python",
   "name": "python3"
  },
  "language_info": {
   "codemirror_mode": {
    "name": "ipython",
    "version": 3
   },
   "file_extension": ".py",
   "mimetype": "text/x-python",
   "name": "python",
   "nbconvert_exporter": "python",
   "pygments_lexer": "ipython3",
   "version": "3.9.12"
  }
 },
 "nbformat": 4,
 "nbformat_minor": 5
}
